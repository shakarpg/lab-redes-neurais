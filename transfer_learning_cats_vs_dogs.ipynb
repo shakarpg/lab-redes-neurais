{
  "cells": [
    {
      "cell_type": "code",
      "metadata": {},
      "source": [
        "# Etapa 1 \u2013 Importa\u00e7\u00f5es"
      ],
      "outputs": [],
      "execution_count": null
    },
    {
      "cell_type": "code",
      "metadata": {},
      "source": [
        "import tensorflow as tf\nfrom tensorflow.keras.preprocessing.image import ImageDataGenerator\nfrom tensorflow.keras.applications import MobileNetV2\nfrom tensorflow.keras import layers, models\nfrom tensorflow.keras.callbacks import EarlyStopping\nimport matplotlib.pyplot as plt\nimport numpy as np\nimport os"
      ],
      "outputs": [],
      "execution_count": null
    },
    {
      "cell_type": "code",
      "metadata": {},
      "source": [
        "# Etapa 2 \u2013 Carregar Dataset com TensorFlow Datasets"
      ],
      "outputs": [],
      "execution_count": null
    },
    {
      "cell_type": "code",
      "metadata": {},
      "source": [
        "import tensorflow_datasets as tfds\n(ds_train, ds_val), ds_info = tfds.load(\n    'cats_vs_dogs',\n    split=['train[:80%]', 'train[80%:]'],\n    as_supervised=True,\n    with_info=True\n)"
      ],
      "outputs": [],
      "execution_count": null
    },
    {
      "cell_type": "code",
      "metadata": {},
      "source": [
        "# Etapa 3 \u2013 Pr\u00e9-processamento (padroniza\u00e7\u00e3o e redimensionamento)"
      ],
      "outputs": [],
      "execution_count": null
    },
    {
      "cell_type": "code",
      "metadata": {},
      "source": [
        "def format_image(image, label):\n    image = tf.image.resize(image, (160, 160))\n    image = tf.cast(image, tf.float32) / 255.0\n    return image, label\n\nds_train = ds_train.map(format_image).batch(32).prefetch(1)\nds_val = ds_val.map(format_image).batch(32).prefetch(1)"
      ],
      "outputs": [],
      "execution_count": null
    },
    {
      "cell_type": "code",
      "metadata": {},
      "source": [
        "# Etapa 4 \u2013 Carregar Modelo Pr\u00e9-Treinado"
      ],
      "outputs": [],
      "execution_count": null
    },
    {
      "cell_type": "code",
      "metadata": {},
      "source": [
        "base_model = MobileNetV2(input_shape=(160, 160, 3), include_top=False, weights='imagenet')\nbase_model.trainable = False\nmodel = models.Sequential([\n    base_model,\n    layers.GlobalAveragePooling2D(),\n    layers.Dropout(0.2),\n    layers.Dense(1, activation='sigmoid')\n])"
      ],
      "outputs": [],
      "execution_count": null
    },
    {
      "cell_type": "code",
      "metadata": {},
      "source": [
        "# Etapa 5 \u2013 Compilar e Treinar o Modelo"
      ],
      "outputs": [],
      "execution_count": null
    },
    {
      "cell_type": "code",
      "metadata": {},
      "source": [
        "model.compile(optimizer='adam', loss='binary_crossentropy', metrics=['accuracy'])\nearly_stop = EarlyStopping(monitor='val_loss', patience=3)\nhistory = model.fit(ds_train, validation_data=ds_val, epochs=5, callbacks=[early_stop])"
      ],
      "outputs": [],
      "execution_count": null
    },
    {
      "cell_type": "code",
      "metadata": {},
      "source": [
        "# Etapa 6 \u2013 Avalia\u00e7\u00e3o e Visualiza\u00e7\u00e3o"
      ],
      "outputs": [],
      "execution_count": null
    },
    {
      "cell_type": "code",
      "metadata": {},
      "source": [
        "plt.plot(history.history['accuracy'], label='Acur\u00e1cia Treino')\nplt.plot(history.history['val_accuracy'], label='Acur\u00e1cia Valida\u00e7\u00e3o')\nplt.legend()\nplt.title('Acur\u00e1cia')\nplt.show()"
      ],
      "outputs": [],
      "execution_count": null
    },
    {
      "cell_type": "code",
      "metadata": {},
      "source": [
        "# Etapa 7 \u2013 Salvar Modelo"
      ],
      "outputs": [],
      "execution_count": null
    },
    {
      "cell_type": "code",
      "metadata": {},
      "source": [
        "model.save('transfer_model.h5')"
      ],
      "outputs": [],
      "execution_count": null
    }
  ],
  "metadata": {},
  "nbformat": 4,
  "nbformat_minor": 0
}